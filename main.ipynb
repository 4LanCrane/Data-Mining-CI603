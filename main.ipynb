{
  "nbformat": 4,
  "nbformat_minor": 0,
  "metadata": {
    "colab": {
      "provenance": [],
      "mount_file_id": "1HHkhGhRCsG--fDF6lsOLfKWf6p5c-oR8",
      "authorship_tag": "ABX9TyPEzl9DaMUqAq32XKSr7Cim",
      "include_colab_link": true
    },
    "kernelspec": {
      "name": "python3",
      "display_name": "Python 3"
    },
    "language_info": {
      "name": "python"
    }
  },
  "cells": [
    {
      "cell_type": "markdown",
      "metadata": {
        "id": "view-in-github",
        "colab_type": "text"
      },
      "source": [
        "<a href=\"https://colab.research.google.com/github/4LanCrane/Data-Mining-CI603/blob/main/main.ipynb\" target=\"_parent\"><img src=\"https://colab.research.google.com/assets/colab-badge.svg\" alt=\"Open In Colab\"/></a>"
      ]
    },
    {
      "cell_type": "code",
      "execution_count": 45,
      "metadata": {
        "id": "YTZN4LypQA-S"
      },
      "outputs": [],
      "source": [
        "from pyspark.sql import SparkSession\n",
        "from pyspark.sql.functions import array, col,size,lit,array_except,explode,avg,array_contains,lower,expr\n",
        "from pyspark.ml.fpm import FPGrowth\n",
        "import matplotlib.pyplot as plt\n",
        "import kagglehub\n",
        "file_path = kagglehub.dataset_download(\"choongqianzheng/disease-and-symptoms-dataset\")"
      ]
    },
    {
      "cell_type": "code",
      "source": [
        "# function for creating a spark session\n",
        "def create_spark_session(app_name=\"HealthData\"):\n",
        "    return SparkSession.builder.appName(app_name).getOrCreate()\n",
        "\n",
        "# function for creating a dataframe\n",
        "def create_Dataframe(spark,file_path):\n",
        "    return spark.read.csv(file_path, header=True, inferSchema=True)\n",
        "\n",
        "# extracts symptoms colums from dataframe, resource used for code https://www.kaggle.com/code/megan3/market-basket-analysis-using-pyspark\n",
        "def extract_symptoms_column(df):\n",
        "    symptom_columns = [col_name for col_name in df.columns if col_name != 'Disease']\n",
        "    df = df.withColumn('Symptoms', array(*symptom_columns))\n",
        "    return df.select('Disease', 'Symptoms')\n",
        "\n",
        "# runs fpGrowth and returns model\n",
        "def run_fp_growth(df_aggregated,items_col_value, minSupport, minConfidence):\n",
        "    fp = FPGrowth(itemsCol=items_col_value, minSupport=minSupport, minConfidence=minConfidence)\n",
        "    model = fp.fit(df_aggregated)\n",
        "    return model\n",
        "\n",
        "# prints the number of distinct values\n",
        "def countDistinct(df, columnName,colTitle):\n",
        "  print(\"Number of unique \" + colTitle + \"=\",df.select(columnName).distinct().count())\n",
        "\n",
        "\n",
        "# splits each symptom into a new row\n",
        "def explode_symptoms_column(df, symptoms_col=\"Symptoms\"):\n",
        "    exploded_df = df.select(explode(col(symptoms_col)).alias(\"Symptom\"))\n",
        "    return exploded_df\n",
        "\n",
        "# removes all nuls from the symptoms array and removes whitespace, resource used for code https://www.kaggle.com/code/megan3/market-basket-analysis-using-pyspark\n",
        "def remove_null_symptoms_and_trim(df, symptoms_col=\"Symptoms\"):\n",
        "    cleaned_df = df.select(\n",
        "        \"Disease\",\n",
        "        array_except(col(symptoms_col), array(lit(None))).alias(symptoms_col)\n",
        "    )\n",
        "\n",
        "    cleaned_df = cleaned_df.withColumn(\n",
        "        symptoms_col,\n",
        "        expr(f\"transform({symptoms_col}, x -> trim(x))\")\n",
        "    )\n",
        "    return cleaned_df\n",
        "\n",
        "# calulates the representation of each symptom within the dataset as a percentage\n",
        "def calculate_symptom_percentages(exploded_df):\n",
        "    total_symptoms = exploded_df.count()\n",
        "\n",
        "    symptom_counts = exploded_df.groupBy(\"Symptom\").count()\n",
        "\n",
        "    symptom_counts = symptom_counts.withColumn(\n",
        "        \"percentage\", (col(\"count\") / total_symptoms) * 100\n",
        "    )\n",
        "\n",
        "    return symptom_counts\n",
        "\n",
        "# Creates a barchart to show the percentage of each symptom\n",
        "def plot_symptom_percentages(df_pd, top_n=None):\n",
        "    if top_n:\n",
        "        df_pd = df_pd.head(top_n)\n",
        "\n",
        "    plt.figure(figsize=(14, 8))\n",
        "    plt.bar(df_pd[\"Symptom\"], df_pd[\"percentage\"], color='skyblue')\n",
        "    plt.xticks(rotation=90)\n",
        "    plt.xlabel(\"Symptom\")\n",
        "    plt.ylabel(\"Percentage (%)\")\n",
        "    plt.title(\"Percentage of Each Symptom in Dataset\")\n",
        "    plt.tight_layout()\n",
        "    plt.show()\n",
        "\n",
        "#calulates the average symptoms within the dataset\n",
        "def calculate_average_symptoms(df, symptoms_col=\"Symptoms\"):\n",
        "    df_with_countsForEach = df.withColumn(\"num_symptoms\", size(col(symptoms_col)))\n",
        "    avg_symptoms = df_with_countsForEach.select(avg(\"num_symptoms\")).first()[0]\n",
        "    return avg_symptoms"
      ],
      "metadata": {
        "id": "HTmPCu5JQVFT"
      },
      "execution_count": 46,
      "outputs": []
    },
    {
      "cell_type": "markdown",
      "source": [
        "Create Spark Session"
      ],
      "metadata": {
        "id": "QM3NL9sDIU76"
      }
    },
    {
      "cell_type": "code",
      "source": [
        "spark = create_spark_session()\n",
        "df = create_Dataframe(spark, file_path)"
      ],
      "metadata": {
        "id": "1AQhassjXvP6"
      },
      "execution_count": 47,
      "outputs": []
    },
    {
      "cell_type": "markdown",
      "source": [
        "Print number of records"
      ],
      "metadata": {
        "id": "mI7x-95FIYtL"
      }
    },
    {
      "cell_type": "code",
      "source": [
        "numOfRecords = df.count()\n",
        "print(\"Number of records = \", numOfRecords)"
      ],
      "metadata": {
        "id": "5jxqbQ30G3EU",
        "colab": {
          "base_uri": "https://localhost:8080/"
        },
        "outputId": "bf6502f5-c526-422e-b1af-3399ccb76c56"
      },
      "execution_count": 48,
      "outputs": [
        {
          "output_type": "stream",
          "name": "stdout",
          "text": [
            "Number of records =  4961\n"
          ]
        }
      ]
    },
    {
      "cell_type": "markdown",
      "source": [
        "Combine multiple symptom colums into one Symptoms array"
      ],
      "metadata": {
        "id": "UyAzveWcyIbN"
      }
    },
    {
      "cell_type": "code",
      "source": [
        "df = extract_symptoms_column(df)"
      ],
      "metadata": {
        "id": "MWK_OojxKprv"
      },
      "execution_count": 49,
      "outputs": []
    },
    {
      "cell_type": "code",
      "source": [
        "df.show(10,False)"
      ],
      "metadata": {
        "id": "N4ctSFDElhr9",
        "colab": {
          "base_uri": "https://localhost:8080/"
        },
        "outputId": "15b0fe94-a323-4ed3-d016-d8e031df19d0"
      },
      "execution_count": 50,
      "outputs": [
        {
          "output_type": "stream",
          "name": "stdout",
          "text": [
            "+----------------+------------------------------------------------------------------------------------------------------------------------------------------------+\n",
            "|Disease         |Symptoms                                                                                                                                        |\n",
            "+----------------+------------------------------------------------------------------------------------------------------------------------------------------------+\n",
            "|Fungal infection|[itching,  skin_rash,  nodal_skin_eruptions,  dischromic _patches, NULL, NULL, NULL, NULL, NULL, NULL, NULL, NULL, NULL, NULL, NULL, NULL, NULL]|\n",
            "|Fungal infection|[ skin_rash,  nodal_skin_eruptions,  dischromic _patches, NULL, NULL, NULL, NULL, NULL, NULL, NULL, NULL, NULL, NULL, NULL, NULL, NULL, NULL]   |\n",
            "|Fungal infection|[itching,  nodal_skin_eruptions,  dischromic _patches, NULL, NULL, NULL, NULL, NULL, NULL, NULL, NULL, NULL, NULL, NULL, NULL, NULL, NULL]      |\n",
            "|Fungal infection|[itching,  skin_rash,  dischromic _patches, NULL, NULL, NULL, NULL, NULL, NULL, NULL, NULL, NULL, NULL, NULL, NULL, NULL, NULL]                 |\n",
            "|Fungal infection|[itching,  skin_rash,  nodal_skin_eruptions, NULL, NULL, NULL, NULL, NULL, NULL, NULL, NULL, NULL, NULL, NULL, NULL, NULL, NULL]                |\n",
            "|Fungal infection|[ skin_rash,  nodal_skin_eruptions,  dischromic _patches, NULL, NULL, NULL, NULL, NULL, NULL, NULL, NULL, NULL, NULL, NULL, NULL, NULL, NULL]   |\n",
            "|Fungal infection|[itching,  nodal_skin_eruptions,  dischromic _patches, NULL, NULL, NULL, NULL, NULL, NULL, NULL, NULL, NULL, NULL, NULL, NULL, NULL, NULL]      |\n",
            "|Fungal infection|[itching,  skin_rash,  dischromic _patches, NULL, NULL, NULL, NULL, NULL, NULL, NULL, NULL, NULL, NULL, NULL, NULL, NULL, NULL]                 |\n",
            "|Fungal infection|[itching,  skin_rash,  nodal_skin_eruptions, NULL, NULL, NULL, NULL, NULL, NULL, NULL, NULL, NULL, NULL, NULL, NULL, NULL, NULL]                |\n",
            "|Fungal infection|[itching,  skin_rash,  nodal_skin_eruptions,  dischromic _patches, NULL, NULL, NULL, NULL, NULL, NULL, NULL, NULL, NULL, NULL, NULL, NULL, NULL]|\n",
            "+----------------+------------------------------------------------------------------------------------------------------------------------------------------------+\n",
            "only showing top 10 rows\n",
            "\n"
          ]
        }
      ]
    },
    {
      "cell_type": "markdown",
      "source": [
        "Seprate each Symptom into a new row and display count of each"
      ],
      "metadata": {
        "id": "q3mqGwwvkjxY"
      }
    },
    {
      "cell_type": "code",
      "source": [
        "exploded_df = explode_symptoms_column(df)\n",
        "exploded_df.groupBy(\"Symptom\").count().orderBy(\"count\", ascending=False).show(10)"
      ],
      "metadata": {
        "id": "-sSDrFJySeXm",
        "colab": {
          "base_uri": "https://localhost:8080/"
        },
        "outputId": "41261657-02ba-4d73-89cd-57d5ed9c7b99"
      },
      "execution_count": 51,
      "outputs": [
        {
          "output_type": "stream",
          "name": "stdout",
          "text": [
            "+------------------+-----+\n",
            "|           Symptom|count|\n",
            "+------------------+-----+\n",
            "|              NULL|47527|\n",
            "|           fatigue| 1932|\n",
            "|          vomiting| 1914|\n",
            "|        high_fever| 1362|\n",
            "|  loss_of_appetite| 1152|\n",
            "|            nausea| 1146|\n",
            "|          headache| 1134|\n",
            "|    abdominal_pain| 1032|\n",
            "|    yellowish_skin|  912|\n",
            "| yellowing_of_eyes|  816|\n",
            "+------------------+-----+\n",
            "only showing top 10 rows\n",
            "\n"
          ]
        }
      ]
    },
    {
      "cell_type": "markdown",
      "source": [
        "Calulate the percentage each Symptom represents in the dataset"
      ],
      "metadata": {
        "id": "FMvKMdzZkybV"
      }
    },
    {
      "cell_type": "code",
      "source": [
        "symptoms_percent_withNull = calculate_symptom_percentages(exploded_df).orderBy(\"percentage\", ascending=False)\n",
        "symptoms_percent_withNull.show(10)"
      ],
      "metadata": {
        "id": "hV6KPhD3vHxx",
        "colab": {
          "base_uri": "https://localhost:8080/"
        },
        "outputId": "478a3d11-fcaf-4e27-d8f5-e829d04af9b0"
      },
      "execution_count": 52,
      "outputs": [
        {
          "output_type": "stream",
          "name": "stdout",
          "text": [
            "+------------------+-----+------------------+\n",
            "|           Symptom|count|        percentage|\n",
            "+------------------+-----+------------------+\n",
            "|              NULL|47527| 56.35367632237334|\n",
            "|           fatigue| 1932|2.2908094904964607|\n",
            "|          vomiting| 1914| 2.269466544932829|\n",
            "|        high_fever| 1362|1.6149495476481261|\n",
            "|  loss_of_appetite| 1152|1.3659485160724236|\n",
            "|            nausea| 1146|1.3588342008845467|\n",
            "|          headache| 1134| 1.344605570508792|\n",
            "|    abdominal_pain| 1032|1.2236622123148795|\n",
            "|    yellowish_skin|  912|1.0813759085573356|\n",
            "| yellowing_of_eyes|  816|0.9675468655513001|\n",
            "+------------------+-----+------------------+\n",
            "only showing top 10 rows\n",
            "\n"
          ]
        }
      ]
    },
    {
      "cell_type": "markdown",
      "source": [
        "Plot the percentage of each symptom within the dataset to a bar chart (Including null values)"
      ],
      "metadata": {
        "id": "Gt-pIYNmkZ_6"
      }
    },
    {
      "cell_type": "code",
      "source": [
        "symptoms_percent_withNull_pd = symptoms_percent_withNull.toPandas()\n",
        "symptoms_percent_withNull_pd['Symptom'] = symptoms_percent_withNull_pd['Symptom'].fillna('Null')\n",
        "plot_symptom_percentages(symptoms_percent_withNull_pd, top_n=5)"
      ],
      "metadata": {
        "colab": {
          "base_uri": "https://localhost:8080/",
          "height": 807
        },
        "id": "93obe6X4kX-m",
        "outputId": "680a0306-3d4b-4c78-e56c-3021b0298e0d"
      },
      "execution_count": 53,
      "outputs": [
        {
          "output_type": "display_data",
          "data": {
            "text/plain": [
              "<Figure size 1400x800 with 1 Axes>"
            ],
            "image/png": "[encoded data removed]"
          },
          "metadata": {}
        }
      ]
    },
    {
      "cell_type": "markdown",
      "source": [
        "Remove all null values from Symptoms and remove whitespace\n"
      ],
      "metadata": {
        "id": "VunMGp5I2nRE"
      }
    },
    {
      "cell_type": "code",
      "source": [
        "df_aggregated = remove_null_symptoms_and_trim(df)\n",
        "df_aggregated.show(3,False)"
      ],
      "metadata": {
        "id": "TQkxfAS_vkiN",
        "colab": {
          "base_uri": "https://localhost:8080/"
        },
        "outputId": "0f2a321f-563b-4bd3-d932-9fbf03f858ce"
      },
      "execution_count": 54,
      "outputs": [
        {
          "output_type": "stream",
          "name": "stdout",
          "text": [
            "+----------------+---------------------------------------------------------------+\n",
            "|Disease         |Symptoms                                                       |\n",
            "+----------------+---------------------------------------------------------------+\n",
            "|Fungal infection|[itching, skin_rash, nodal_skin_eruptions, dischromic _patches]|\n",
            "|Fungal infection|[skin_rash, nodal_skin_eruptions, dischromic _patches]         |\n",
            "|Fungal infection|[itching, nodal_skin_eruptions, dischromic _patches]           |\n",
            "+----------------+---------------------------------------------------------------+\n",
            "only showing top 3 rows\n",
            "\n"
          ]
        }
      ]
    },
    {
      "cell_type": "markdown",
      "source": [
        "Calulate the average number of symptoms per disease"
      ],
      "metadata": {
        "id": "GADZK77zlkMg"
      }
    },
    {
      "cell_type": "code",
      "source": [
        "print(\"Average number of symptoms per disease:\", calculate_average_symptoms(df_aggregated))"
      ],
      "metadata": {
        "id": "HAdnkOGM_VSH",
        "colab": {
          "base_uri": "https://localhost:8080/"
        },
        "outputId": "be1df5b4-5770-426e-97cf-12ba5bebe857"
      },
      "execution_count": 55,
      "outputs": [
        {
          "output_type": "stream",
          "name": "stdout",
          "text": [
            "Average number of symptoms per disease: 7.419875025196533\n"
          ]
        }
      ]
    },
    {
      "cell_type": "markdown",
      "source": [
        "Display number of \"Distinct\" diseases and symptoms"
      ],
      "metadata": {
        "id": "CaYHVzzRsE3C"
      }
    },
    {
      "cell_type": "code",
      "source": [
        "countDistinct(df_aggregated,\"Disease\",\"diseases\")\n",
        "countDistinct(df_aggregated,\"Symptoms\",\"symptoms\")"
      ],
      "metadata": {
        "id": "I678E7Sz0GJ9",
        "colab": {
          "base_uri": "https://localhost:8080/"
        },
        "outputId": "31f2dd25-6af5-4735-cbff-d004e88902dc"
      },
      "execution_count": 56,
      "outputs": [
        {
          "output_type": "stream",
          "name": "stdout",
          "text": [
            "Number of unique diseases= 41\n",
            "Number of unique symptoms= 345\n"
          ]
        }
      ]
    },
    {
      "cell_type": "markdown",
      "source": [
        "Calulate percentages without Null values for use with Pandas.\n",
        "\n",
        "\n",
        "\n"
      ],
      "metadata": {
        "id": "h462upk7sNNT"
      }
    },
    {
      "cell_type": "code",
      "source": [
        "symptoms_percent_withoutNull = calculate_symptom_percentages(explode_symptoms_column(df_aggregated)).orderBy(\"percentage\", ascending=False)\n",
        "symptoms_percent_withoutNull.show(10)"
      ],
      "metadata": {
        "id": "DnAch5PvvZBi",
        "colab": {
          "base_uri": "https://localhost:8080/"
        },
        "outputId": "4ba88f5d-dc89-4614-98d2-f8f7234c14c2"
      },
      "execution_count": 57,
      "outputs": [
        {
          "output_type": "stream",
          "name": "stdout",
          "text": [
            "+-----------------+-----+------------------+\n",
            "|          Symptom|count|        percentage|\n",
            "+-----------------+-----+------------------+\n",
            "|          fatigue| 1932| 5.248573757131214|\n",
            "|         vomiting| 1914| 5.199674001629992|\n",
            "|       high_fever| 1362|3.7000814995925024|\n",
            "| loss_of_appetite| 1152|3.1295843520782394|\n",
            "|           nausea| 1146| 3.113284433577832|\n",
            "|         headache| 1134|3.0806845965770173|\n",
            "|   abdominal_pain| 1032|2.8035859820700897|\n",
            "|   yellowish_skin|  912|2.4775876120619396|\n",
            "|yellowing_of_eyes|  816|2.2167889160554197|\n",
            "|           chills|  798|2.1678891605541972|\n",
            "+-----------------+-----+------------------+\n",
            "only showing top 10 rows\n",
            "\n"
          ]
        }
      ]
    },
    {
      "cell_type": "markdown",
      "source": [
        "Plot symptom percentages within dataset (without null values)"
      ],
      "metadata": {
        "id": "89dAj6UCkv1-"
      }
    },
    {
      "cell_type": "code",
      "source": [
        "plot_symptom_percentages(symptoms_percent_withoutNull.toPandas(), top_n=10)"
      ],
      "metadata": {
        "colab": {
          "base_uri": "https://localhost:8080/",
          "height": 807
        },
        "id": "WoAJcLFUkt5d",
        "outputId": "09a24fef-55de-408d-a460-b8c0c0e2dc7c"
      },
      "execution_count": 58,
      "outputs": [
        {
          "output_type": "display_data",
          "data": {
            "text/plain": [
              "<Figure size 1400x800 with 1 Axes>"
            ],
            "image/png": "[encoded data removed]"
          },
          "metadata": {}
        }
      ]
    },
    {
      "cell_type": "markdown",
      "source": [
        "Low confidence and support implemention of FP_Growth passing the \"Symptoms\" two-dimensional Array (minSupport = 0.06, minConfidence = 0.1)"
      ],
      "metadata": {
        "id": "K5AT3gaexP54"
      }
    },
    {
      "cell_type": "code",
      "source": [
        "model = run_fp_growth(df_aggregated, \"Symptoms\", 0.06, 0.1)\n",
        "model.associationRules.show(30, False)"
      ],
      "metadata": {
        "id": "whk8Q8XXxhH0",
        "colab": {
          "base_uri": "https://localhost:8080/"
        },
        "outputId": "ba5d2430-c87f-4b18-abf5-12bfdd9008e3"
      },
      "execution_count": 59,
      "outputs": [
        {
          "output_type": "stream",
          "name": "stdout",
          "text": [
            "+-----------------------------------------------------------------------+-------------------+------------------+------------------+--------------------+\n",
            "|antecedent                                                             |consequent         |confidence        |lift              |support             |\n",
            "+-----------------------------------------------------------------------+-------------------+------------------+------------------+--------------------+\n",
            "|[dark_urine]                                                           |[yellowing_of_eyes]|0.7894736842105263|4.799729102167183 |0.09070751864543439 |\n",
            "|[dark_urine]                                                           |[joint_pain]       |0.5684210526315789|4.122714681440444 |0.06530941342471276 |\n",
            "|[dark_urine]                                                           |[nausea]           |0.5684210526315789|2.4606778726922016|0.06530941342471276 |\n",
            "|[dark_urine]                                                           |[yellowish_skin]   |0.9473684210526315|5.1533933518005535|0.10884902237452126 |\n",
            "|[dark_urine]                                                           |[vomiting]         |0.7578947368421053|1.9644283121597097|0.087079217899617   |\n",
            "|[dark_urine]                                                           |[loss_of_appetite] |0.7684210526315789|3.3091465643274853|0.08828865148155614 |\n",
            "|[dark_urine]                                                           |[abdominal_pain]   |0.9578947368421052|4.604763361893105 |0.1100584559564604  |\n",
            "|[dark_urine]                                                           |[fatigue]          |0.7578947368421053|1.946126185027787 |0.087079217899617   |\n",
            "|[dark_urine, abdominal_pain, fatigue]                                  |[yellowing_of_eyes]|0.7391304347826086|4.493659420289855 |0.06168111267889538 |\n",
            "|[dark_urine, abdominal_pain, fatigue]                                  |[yellowish_skin]   |0.9420289855072463|5.124348461734045 |0.07861318282604314 |\n",
            "|[dark_urine, abdominal_pain, fatigue]                                  |[loss_of_appetite] |0.7246376811594203|3.120596819645733 |0.060471679096956256|\n",
            "|[phlegm, malaise, chills, high_fever]                                  |[chest_pain]       |1.0               |7.127873563218391 |0.06168111267889538 |\n",
            "|[chest_pain, malaise, chills]                                          |[high_fever]       |0.9454545454545454|3.4437591776798824|0.06289054626083451 |\n",
            "|[chest_pain, malaise, chills]                                          |[fatigue]          |0.9454545454545454|2.427743271221532 |0.06289054626083451 |\n",
            "|[chest_pain, malaise, chills]                                          |[cough]            |0.9454545454545454|8.316312056737589 |0.06289054626083451 |\n",
            "|[chest_pain, malaise, chills]                                          |[phlegm]           |0.9818181818181818|13.759322033898304|0.06530941342471276 |\n",
            "|[malaise, chills, high_fever]                                          |[chest_pain]       |0.7536231884057971|5.371730801266033 |0.06289054626083451 |\n",
            "|[malaise, chills, high_fever]                                          |[fatigue]          |0.9420289855072463|2.41894709994899  |0.07861318282604314 |\n",
            "|[malaise, chills, high_fever]                                          |[phlegm]           |0.7391304347826086|10.358265782363054|0.06168111267889538 |\n",
            "|[yellowing_of_eyes, yellowish_skin, nausea, loss_of_appetite, vomiting]|[abdominal_pain]   |0.9523809523809523|4.5782576596530085|0.07256601491634751 |\n",
            "|[dark_urine, yellowing_of_eyes, yellowish_skin]                        |[nausea]           |0.704225352112676 |3.0485706560479806|0.060471679096956256|\n",
            "|[dark_urine, yellowing_of_eyes, yellowish_skin]                        |[vomiting]         |0.704225352112676 |1.8253197344989476|0.060471679096956256|\n",
            "|[dark_urine, yellowing_of_eyes, yellowish_skin]                        |[loss_of_appetite] |0.9577464788732394|4.124462050078247 |0.08224148357186051 |\n",
            "|[dark_urine, yellowing_of_eyes, yellowish_skin]                        |[abdominal_pain]   |0.9577464788732394|4.604050660552462 |0.08224148357186051 |\n",
            "|[dark_urine, yellowing_of_eyes, yellowish_skin]                        |[fatigue]          |0.704225352112676 |1.8083136500160382|0.060471679096956256|\n",
            "|[dark_urine, yellowing_of_eyes, yellowish_skin]                        |[joint_pain]       |0.704225352112676 |5.107692941273371 |0.060471679096956256|\n",
            "|[joint_pain, yellowing_of_eyes, yellowish_skin]                        |[dark_urine]       |0.9433962264150944|8.210857332009269 |0.060471679096956256|\n",
            "|[joint_pain, yellowing_of_eyes, yellowish_skin]                        |[nausea]           |0.9433962264150944|4.083934275083144 |0.060471679096956256|\n",
            "|[joint_pain, yellowing_of_eyes, yellowish_skin]                        |[vomiting]         |0.9433962264150944|2.445239644328779 |0.060471679096956256|\n",
            "|[joint_pain, yellowing_of_eyes, yellowish_skin]                        |[loss_of_appetite] |0.9622641509433962|4.143917059748428 |0.06168111267889538 |\n",
            "+-----------------------------------------------------------------------+-------------------+------------------+------------------+--------------------+\n",
            "only showing top 30 rows\n",
            "\n"
          ]
        }
      ]
    },
    {
      "cell_type": "markdown",
      "source": [
        "Print the number of association rules"
      ],
      "metadata": {
        "id": "P9t6qKlKl66k"
      }
    },
    {
      "cell_type": "code",
      "source": [
        "print(\"Number of association rules:\", model.associationRules.count())"
      ],
      "metadata": {
        "colab": {
          "base_uri": "https://localhost:8080/"
        },
        "id": "-pBUl9Trl1ed",
        "outputId": "584442cd-ed07-4c28-fe7b-75917c75a517"
      },
      "execution_count": 60,
      "outputs": [
        {
          "output_type": "stream",
          "name": "stdout",
          "text": [
            "Number of association rules: 1191\n"
          ]
        }
      ]
    },
    {
      "cell_type": "markdown",
      "source": [
        "Show the association Rules ordered by confidence (high to low)"
      ],
      "metadata": {
        "id": "TZ--KOqwzKhI"
      }
    },
    {
      "cell_type": "code",
      "source": [
        "model.associationRules.orderBy(\"confidence\", ascending=False).show(40, False)"
      ],
      "metadata": {
        "colab": {
          "base_uri": "https://localhost:8080/"
        },
        "id": "Ke8hNty7yz3R",
        "outputId": "7c9c90af-e380-4ae5-fef7-6938861fd0c6"
      },
      "execution_count": 61,
      "outputs": [
        {
          "output_type": "stream",
          "name": "stdout",
          "text": [
            "+--------------------------------------------------------------+-------------------+------------------+------------------+--------------------+\n",
            "|antecedent                                                    |consequent         |confidence        |lift              |support             |\n",
            "+--------------------------------------------------------------+-------------------+------------------+------------------+--------------------+\n",
            "|[phlegm, cough, malaise, high_fever]                          |[chest_pain]       |1.0               |7.127873563218391 |0.06168111267889538 |\n",
            "|[phlegm, fatigue]                                             |[chest_pain]       |1.0               |7.127873563218391 |0.06772828058859101 |\n",
            "|[phlegm, malaise, chills]                                     |[chest_pain]       |1.0               |7.127873563218391 |0.06530941342471276 |\n",
            "|[phlegm, malaise]                                             |[chest_pain]       |1.0               |7.127873563218391 |0.06893771417053013 |\n",
            "|[phlegm, chills]                                              |[chest_pain]       |1.0               |7.127873563218391 |0.06772828058859101 |\n",
            "|[phlegm, high_fever]                                          |[chest_pain]       |1.0               |7.127873563218391 |0.06772828058859101 |\n",
            "|[cough, malaise, high_fever]                                  |[chest_pain]       |1.0               |7.127873563218391 |0.06289054626083451 |\n",
            "|[phlegm, cough, chills, fatigue]                              |[chest_pain]       |1.0               |7.127873563218391 |0.060471679096956256|\n",
            "|[cough, malaise, chills]                                      |[chest_pain]       |1.0               |7.127873563218391 |0.06289054626083451 |\n",
            "|[phlegm, cough, high_fever]                                   |[chest_pain]       |1.0               |7.127873563218391 |0.06409997984277363 |\n",
            "|[phlegm, malaise, fatigue]                                    |[chest_pain]       |1.0               |7.127873563218391 |0.06530941342471276 |\n",
            "|[phlegm, malaise, high_fever, fatigue]                        |[chest_pain]       |1.0               |7.127873563218391 |0.06168111267889538 |\n",
            "|[phlegm, cough, chills]                                       |[chest_pain]       |1.0               |7.127873563218391 |0.06409997984277363 |\n",
            "|[cough, malaise, fatigue]                                     |[chest_pain]       |1.0               |7.127873563218391 |0.06289054626083451 |\n",
            "|[cough, chills, fatigue]                                      |[chest_pain]       |1.0               |7.127873563218391 |0.06168111267889538 |\n",
            "|[phlegm, malaise, chills, high_fever]                         |[chest_pain]       |1.0               |7.127873563218391 |0.06168111267889538 |\n",
            "|[phlegm, cough, malaise, fatigue]                             |[chest_pain]       |1.0               |7.127873563218391 |0.06168111267889538 |\n",
            "|[phlegm, malaise, chills, fatigue]                            |[chest_pain]       |1.0               |7.127873563218391 |0.06168111267889538 |\n",
            "|[phlegm, malaise, high_fever]                                 |[chest_pain]       |1.0               |7.127873563218391 |0.06530941342471276 |\n",
            "|[phlegm, chills, fatigue]                                     |[chest_pain]       |1.0               |7.127873563218391 |0.06409997984277363 |\n",
            "|[cough, malaise]                                              |[chest_pain]       |1.0               |7.127873563218391 |0.06651884700665188 |\n",
            "|[phlegm, cough, fatigue]                                      |[chest_pain]       |1.0               |7.127873563218391 |0.06409997984277363 |\n",
            "|[phlegm, cough, malaise]                                      |[chest_pain]       |1.0               |7.127873563218391 |0.06530941342471276 |\n",
            "|[cough, chills]                                               |[chest_pain]       |1.0               |7.127873563218391 |0.06530941342471276 |\n",
            "|[phlegm, cough, chills, high_fever]                           |[chest_pain]       |1.0               |7.127873563218391 |0.060471679096956256|\n",
            "|[phlegm, chills, high_fever]                                  |[chest_pain]       |1.0               |7.127873563218391 |0.06409997984277363 |\n",
            "|[phlegm, cough]                                               |[chest_pain]       |1.0               |7.127873563218391 |0.06772828058859101 |\n",
            "|[phlegm]                                                      |[chest_pain]       |1.0               |7.127873563218391 |0.07135658133440839 |\n",
            "|[cough, chills, high_fever]                                   |[chest_pain]       |1.0               |7.127873563218391 |0.06168111267889538 |\n",
            "|[phlegm, cough, high_fever, fatigue]                          |[chest_pain]       |1.0               |7.127873563218391 |0.060471679096956256|\n",
            "|[phlegm, high_fever, fatigue]                                 |[chest_pain]       |1.0               |7.127873563218391 |0.06409997984277363 |\n",
            "|[phlegm, chills, high_fever, fatigue]                         |[chest_pain]       |1.0               |7.127873563218391 |0.060471679096956256|\n",
            "|[phlegm, cough, malaise, chills]                              |[chest_pain]       |1.0               |7.127873563218391 |0.06168111267889538 |\n",
            "|[dark_urine, loss_of_appetite]                                |[yellowing_of_eyes]|0.9863013698630136|5.996373892022563 |0.087079217899617   |\n",
            "|[dark_urine, abdominal_pain, loss_of_appetite]                |[yellowing_of_eyes]|0.9857142857142858|5.99280462184874  |0.08345091715379964 |\n",
            "|[dark_urine, yellowish_skin, loss_of_appetite]                |[yellowing_of_eyes]|0.9855072463768116|5.991545893719807 |0.08224148357186051 |\n",
            "|[dark_urine, yellowish_skin, abdominal_pain, loss_of_appetite]|[yellowing_of_eyes]|0.9848484848484849|5.987540849673203 |0.07861318282604314 |\n",
            "|[swelled_lymph_nodes]                                         |[malaise]          |0.9827586206896551|6.94510757441792  |0.06893771417053013 |\n",
            "|[chest_pain, malaise]                                         |[phlegm]           |0.9827586206896551|13.772501461133839|0.06893771417053013 |\n",
            "|[chest_pain, high_fever]                                      |[phlegm]           |0.9824561403508771|13.768262464069776|0.06772828058859101 |\n",
            "+--------------------------------------------------------------+-------------------+------------------+------------------+--------------------+\n",
            "only showing top 40 rows\n",
            "\n"
          ]
        }
      ]
    },
    {
      "cell_type": "markdown",
      "source": [
        "Show the association Rules ordered by confidence (low to high)"
      ],
      "metadata": {
        "id": "RxuwgVN4olKp"
      }
    },
    {
      "cell_type": "code",
      "source": [
        "model.associationRules.orderBy(\"confidence\", ascending=True).show(40, False)"
      ],
      "metadata": {
        "colab": {
          "base_uri": "https://localhost:8080/"
        },
        "id": "fYqebUHboftQ",
        "outputId": "8fbd7189-a572-4d21-e5f9-3f662097af52"
      },
      "execution_count": 62,
      "outputs": [
        {
          "output_type": "stream",
          "name": "stdout",
          "text": [
            "+------------------+---------------------+-------------------+------------------+-------------------+\n",
            "|antecedent        |consequent           |confidence         |lift              |support            |\n",
            "+------------------+---------------------+-------------------+------------------+-------------------+\n",
            "|[fatigue]         |[breathlessness]     |0.16459627329192547|1.8145824706694273|0.06409997984277363|\n",
            "|[vomiting]        |[chest_pain]         |0.16614420062695925|1.1842548553309553|0.06409997984277363|\n",
            "|[fatigue]         |[joint_pain]         |0.16770186335403728|1.216328865642367 |0.06530941342471276|\n",
            "|[fatigue]         |[itching]            |0.16770186335403728|1.2270928379046888|0.06530941342471276|\n",
            "|[fatigue]         |[swelled_lymph_nodes]|0.17080745341614906|2.4349878632112514|0.06651884700665188|\n",
            "|[fatigue]         |[excessive_hunger]   |0.17080745341614906|1.8341467021591245|0.06651884700665188|\n",
            "|[fatigue]         |[phlegm]             |0.17391304347826086|2.4372390076148363|0.06772828058859101|\n",
            "|[fatigue]         |[irritability]       |0.17391304347826086|1.8202164740414604|0.06772828058859101|\n",
            "|[vomiting]        |[muscle_pain]        |0.1755485893416928 |1.837334497308308 |0.06772828058859101|\n",
            "|[fatigue]         |[chest_pain]         |0.17701863354037267|1.2617664382094667|0.06893771417053013|\n",
            "|[fatigue]         |[cough]              |0.21739130434782608|1.912195497995683 |0.08466035073573876|\n",
            "|[vomiting]        |[sweating]           |0.219435736677116  |1.6056352354796055|0.08466035073573876|\n",
            "|[vomiting]        |[diarrhoea]          |0.219435736677116  |1.930178527757398 |0.08466035073573876|\n",
            "|[fatigue]         |[lethargy]           |0.2204968944099379 |2.398870818350223 |0.08586978431767789|\n",
            "|[fatigue]         |[sweating]           |0.2236024844720497 |1.6361237838729183|0.087079217899617  |\n",
            "|[fatigue]         |[dark_urine]         |0.2236024844720497 |1.946126185027787 |0.087079217899617  |\n",
            "|[fatigue]         |[weight_loss]        |0.2236024844720497 |2.4326577312847335|0.087079217899617  |\n",
            "|[vomiting]        |[dark_urine]         |0.22570532915360503|1.9644283121597097|0.087079217899617  |\n",
            "|[vomiting]        |[joint_pain]         |0.22570532915360503|1.637023593466425 |0.087079217899617  |\n",
            "|[vomiting]        |[chills]             |0.22884012539184953|1.4226514562267738|0.08828865148155614|\n",
            "|[high_fever]      |[skin_rash]          |0.2290748898678414 |1.4458530898655995|0.06289054626083451|\n",
            "|[high_fever]      |[breathlessness]     |0.23788546255506607|2.622555066079295 |0.06530941342471276|\n",
            "|[high_fever]      |[sweating]           |0.23788546255506607|1.7406338934154613|0.06530941342471276|\n",
            "|[high_fever]      |[swelled_lymph_nodes]|0.2422907488986784 |3.4540356473745506|0.06651884700665188|\n",
            "|[high_fever]      |[abdominal_pain]     |0.24669603524229075|1.1859099136017484|0.06772828058859101|\n",
            "|[high_fever]      |[muscle_pain]        |0.24669603524229075|2.5819810777151995|0.06772828058859101|\n",
            "|[high_fever]      |[phlegm]             |0.24669603524229075|3.4572289006695036|0.06772828058859101|\n",
            "|[high_fever]      |[chest_pain]         |0.2511013215859031 |1.7898184718213581|0.06893771417053013|\n",
            "|[nausea]          |[diarrhoea]          |0.2774869109947644 |2.4408024210018198|0.06409997984277363|\n",
            "|[fatigue]         |[yellowish_skin]     |0.2795031055900621 |1.5204110820529582|0.10884902237452126|\n",
            "|[loss_of_appetite]|[itching]            |0.28125            |2.057936946902655 |0.06530941342471276|\n",
            "|[nausea]          |[dark_urine]         |0.28272251308900526|2.4606778726922016|0.06530941342471276|\n",
            "|[fatigue]         |[yellowing_of_eyes]  |0.2857142857142857 |1.737044817927171 |0.11126788953839951|\n",
            "|[fatigue]         |[abdominal_pain]     |0.2857142857142857 |1.3734772978959024|0.11126788953839951|\n",
            "|[fatigue]         |[headache]           |0.2857142857142857 |1.2499370118417739|0.11126788953839951|\n",
            "|[fatigue]         |[chills]             |0.2857142857142857 |1.7762262799856783|0.11126788953839951|\n",
            "|[vomiting]        |[yellowing_of_eyes]  |0.29153605015673983|1.7724391480730226|0.11247732312033865|\n",
            "|[nausea]          |[chills]             |0.2931937172774869 |1.8227243501423713|0.06772828058859101|\n",
            "|[headache]        |[malaise]            |0.2962962962962963 |2.093911575393057 |0.06772828058859101|\n",
            "|[loss_of_appetite]|[mild_fever]         |0.296875           |4.160443149717514 |0.06893771417053013|\n",
            "+------------------+---------------------+-------------------+------------------+-------------------+\n",
            "only showing top 40 rows\n",
            "\n"
          ]
        }
      ]
    },
    {
      "cell_type": "markdown",
      "source": [
        "Run FP growth with higher increase min confidence (minSupport = 0.06, minConfidence = 0.5)"
      ],
      "metadata": {
        "id": "DcHoTAJlo1GS"
      }
    },
    {
      "cell_type": "code",
      "source": [
        "model = run_fp_growth(df_aggregated, \"Symptoms\", 0.06, 0.5)\n",
        "model.associationRules.show(40, False)"
      ],
      "metadata": {
        "colab": {
          "base_uri": "https://localhost:8080/"
        },
        "id": "skbQcnqZm-UP",
        "outputId": "5184ede1-af0a-4681-dcfc-6ad903d03132"
      },
      "execution_count": 63,
      "outputs": [
        {
          "output_type": "stream",
          "name": "stdout",
          "text": [
            "+-----------------------------------------------------------------------+-------------------+------------------+------------------+--------------------+\n",
            "|antecedent                                                             |consequent         |confidence        |lift              |support             |\n",
            "+-----------------------------------------------------------------------+-------------------+------------------+------------------+--------------------+\n",
            "|[dark_urine]                                                           |[yellowing_of_eyes]|0.7894736842105263|4.799729102167183 |0.09070751864543439 |\n",
            "|[dark_urine]                                                           |[joint_pain]       |0.5684210526315789|4.122714681440444 |0.06530941342471276 |\n",
            "|[dark_urine]                                                           |[nausea]           |0.5684210526315789|2.4606778726922016|0.06530941342471276 |\n",
            "|[dark_urine]                                                           |[yellowish_skin]   |0.9473684210526315|5.1533933518005535|0.10884902237452126 |\n",
            "|[dark_urine]                                                           |[vomiting]         |0.7578947368421053|1.9644283121597097|0.087079217899617   |\n",
            "|[dark_urine]                                                           |[loss_of_appetite] |0.7684210526315789|3.3091465643274853|0.08828865148155614 |\n",
            "|[dark_urine]                                                           |[abdominal_pain]   |0.9578947368421052|4.604763361893105 |0.1100584559564604  |\n",
            "|[dark_urine]                                                           |[fatigue]          |0.7578947368421053|1.946126185027787 |0.087079217899617   |\n",
            "|[dark_urine, abdominal_pain, fatigue]                                  |[yellowing_of_eyes]|0.7391304347826086|4.493659420289855 |0.06168111267889538 |\n",
            "|[dark_urine, abdominal_pain, fatigue]                                  |[yellowish_skin]   |0.9420289855072463|5.124348461734045 |0.07861318282604314 |\n",
            "|[dark_urine, abdominal_pain, fatigue]                                  |[loss_of_appetite] |0.7246376811594203|3.120596819645733 |0.060471679096956256|\n",
            "|[phlegm, malaise, chills, high_fever]                                  |[chest_pain]       |1.0               |7.127873563218391 |0.06168111267889538 |\n",
            "|[chest_pain, malaise, chills]                                          |[high_fever]       |0.9454545454545454|3.4437591776798824|0.06289054626083451 |\n",
            "|[chest_pain, malaise, chills]                                          |[fatigue]          |0.9454545454545454|2.427743271221532 |0.06289054626083451 |\n",
            "|[chest_pain, malaise, chills]                                          |[cough]            |0.9454545454545454|8.316312056737589 |0.06289054626083451 |\n",
            "|[chest_pain, malaise, chills]                                          |[phlegm]           |0.9818181818181818|13.759322033898304|0.06530941342471276 |\n",
            "|[malaise, chills, high_fever]                                          |[chest_pain]       |0.7536231884057971|5.371730801266033 |0.06289054626083451 |\n",
            "|[malaise, chills, high_fever]                                          |[fatigue]          |0.9420289855072463|2.41894709994899  |0.07861318282604314 |\n",
            "|[malaise, chills, high_fever]                                          |[phlegm]           |0.7391304347826086|10.358265782363054|0.06168111267889538 |\n",
            "|[yellowing_of_eyes, yellowish_skin, nausea, loss_of_appetite, vomiting]|[abdominal_pain]   |0.9523809523809523|4.5782576596530085|0.07256601491634751 |\n",
            "|[dark_urine, yellowing_of_eyes, yellowish_skin]                        |[nausea]           |0.704225352112676 |3.0485706560479806|0.060471679096956256|\n",
            "|[dark_urine, yellowing_of_eyes, yellowish_skin]                        |[vomiting]         |0.704225352112676 |1.8253197344989476|0.060471679096956256|\n",
            "|[dark_urine, yellowing_of_eyes, yellowish_skin]                        |[loss_of_appetite] |0.9577464788732394|4.124462050078247 |0.08224148357186051 |\n",
            "|[dark_urine, yellowing_of_eyes, yellowish_skin]                        |[abdominal_pain]   |0.9577464788732394|4.604050660552462 |0.08224148357186051 |\n",
            "|[dark_urine, yellowing_of_eyes, yellowish_skin]                        |[fatigue]          |0.704225352112676 |1.8083136500160382|0.060471679096956256|\n",
            "|[dark_urine, yellowing_of_eyes, yellowish_skin]                        |[joint_pain]       |0.704225352112676 |5.107692941273371 |0.060471679096956256|\n",
            "|[joint_pain, yellowing_of_eyes, yellowish_skin]                        |[dark_urine]       |0.9433962264150944|8.210857332009269 |0.060471679096956256|\n",
            "|[joint_pain, yellowing_of_eyes, yellowish_skin]                        |[nausea]           |0.9433962264150944|4.083934275083144 |0.060471679096956256|\n",
            "|[joint_pain, yellowing_of_eyes, yellowish_skin]                        |[vomiting]         |0.9433962264150944|2.445239644328779 |0.060471679096956256|\n",
            "|[joint_pain, yellowing_of_eyes, yellowish_skin]                        |[loss_of_appetite] |0.9622641509433962|4.143917059748428 |0.06168111267889538 |\n",
            "|[joint_pain, yellowing_of_eyes, yellowish_skin]                        |[abdominal_pain]   |0.9622641509433962|4.625767880649407 |0.06168111267889538 |\n",
            "|[dark_urine, yellowing_of_eyes]                                        |[nausea]           |0.7066666666666667|3.05913903432228  |0.06409997984277363 |\n",
            "|[dark_urine, yellowing_of_eyes]                                        |[yellowish_skin]   |0.9466666666666667|5.149576023391813 |0.08586978431767789 |\n",
            "|[dark_urine, yellowing_of_eyes]                                        |[vomiting]         |0.7066666666666667|1.831647509578544 |0.06409997984277363 |\n",
            "|[dark_urine, yellowing_of_eyes]                                        |[loss_of_appetite] |0.96              |4.134166666666666 |0.087079217899617   |\n",
            "|[dark_urine, yellowing_of_eyes]                                        |[abdominal_pain]   |0.96              |4.614883720930233 |0.087079217899617   |\n",
            "|[dark_urine, yellowing_of_eyes]                                        |[fatigue]          |0.7066666666666667|1.8145824706694271|0.06409997984277363 |\n",
            "|[dark_urine, yellowing_of_eyes]                                        |[joint_pain]       |0.7066666666666667|5.125399610136452 |0.06409997984277363 |\n",
            "|[abdominal_pain, high_fever, fatigue]                                  |[vomiting]         |0.9444444444444444|2.4479565772669223|0.06168111267889538 |\n",
            "|[phlegm, malaise]                                                      |[cough]            |0.9473684210526315|8.333146696528555 |0.06530941342471276 |\n",
            "+-----------------------------------------------------------------------+-------------------+------------------+------------------+--------------------+\n",
            "only showing top 40 rows\n",
            "\n"
          ]
        }
      ]
    },
    {
      "cell_type": "markdown",
      "source": [
        "Print the number of association rules"
      ],
      "metadata": {
        "id": "8LJGlIqhqOuP"
      }
    },
    {
      "cell_type": "code",
      "source": [
        "print(\"Number of association rules:\", model.associationRules.count())"
      ],
      "metadata": {
        "colab": {
          "base_uri": "https://localhost:8080/"
        },
        "id": "hzzm1CJqqMcg",
        "outputId": "8825daf0-c18e-4400-b47a-463512bccd7e"
      },
      "execution_count": 64,
      "outputs": [
        {
          "output_type": "stream",
          "name": "stdout",
          "text": [
            "Number of association rules: 1012\n"
          ]
        }
      ]
    },
    {
      "cell_type": "markdown",
      "source": [
        "Show the association Rules ordered by confidence (low to high)"
      ],
      "metadata": {
        "id": "o1KDq9Csqpcu"
      }
    },
    {
      "cell_type": "code",
      "source": [
        "model.associationRules.orderBy(\"confidence\", ascending=True).show(40, False)"
      ],
      "metadata": {
        "colab": {
          "base_uri": "https://localhost:8080/"
        },
        "id": "kbQoqCsLqrrM",
        "outputId": "7a502022-6134-4b3e-d882-2312511729ab"
      },
      "execution_count": 65,
      "outputs": [
        {
          "output_type": "stream",
          "name": "stdout",
          "text": [
            "+-------------------------------------+-------------------+------------------+------------------+-------------------+\n",
            "|antecedent                           |consequent         |confidence        |lift              |support            |\n",
            "+-------------------------------------+-------------------+------------------+------------------+-------------------+\n",
            "|[chest_pain]                         |[malaise]          |0.5               |3.5334757834757835|0.07014714775246926|\n",
            "|[fatigue]                            |[high_fever]       |0.5062111801242236|1.8438426318621683|0.19713767385607742|\n",
            "|[chest_pain]                         |[phlegm]           |0.5086206896551724|7.127873563218389 |0.07135658133440839|\n",
            "|[vomiting]                           |[nausea]           |0.5109717868338558|2.211981705482337 |0.19713767385607742|\n",
            "|[nausea, vomiting]                   |[abdominal_pain]   |0.5276073619631901|2.5362985685071573|0.10401128804676477|\n",
            "|[abdominal_pain]                     |[dark_urine]       |0.5290697674418605|4.604763361893105 |0.1100584559564604 |\n",
            "|[abdominal_pain]                     |[nausea]           |0.5290697674418605|2.290327326596047 |0.1100584559564604 |\n",
            "|[nausea, vomiting]                   |[fatigue]          |0.5337423312883436|1.3705464314293336|0.10522072162870388|\n",
            "|[high_fever, fatigue]                |[vomiting]         |0.5337423312883436|1.383435582822086 |0.10522072162870388|\n",
            "|[nausea, vomiting]                   |[headache]         |0.5337423312883436|2.33500503132405  |0.10522072162870388|\n",
            "|[high_fever, fatigue]                |[malaise]          |0.5337423312883436|3.7719312044465423|0.10522072162870388|\n",
            "|[abdominal_pain]                     |[fatigue]          |0.5348837209302325|1.3734772978959024|0.11126788953839951|\n",
            "|[loss_of_appetite, fatigue]          |[yellowish_skin]   |0.5348837209302325|2.9096032231742144|0.08345091715379964|\n",
            "|[loss_of_appetite, vomiting]         |[yellowish_skin]   |0.5390625         |2.932334498355263 |0.08345091715379964|\n",
            "|[high_fever, fatigue]                |[chills]           |0.5398773006134969|3.3563048726109748|0.10643015521064302|\n",
            "|[nausea, vomiting]                   |[loss_of_appetite] |0.5398773006134969|2.3249403544648946|0.10643015521064302|\n",
            "|[yellowish_skin, abdominal_pain]     |[nausea]           |0.5433070866141733|2.35196025889434  |0.08345091715379964|\n",
            "|[yellowish_skin, abdominal_pain]     |[fatigue]          |0.5433070866141733|1.3951068616422948|0.08345091715379964|\n",
            "|[abdominal_pain]                     |[yellowing_of_eyes]|0.5465116279069767|3.3226031691746467|0.11368675670227776|\n",
            "|[loss_of_appetite, vomiting]         |[joint_pain]       |0.546875          |3.9664427997076026|0.08466035073573876|\n",
            "|[chills]                             |[malaise]          |0.5488721804511278|3.8788531156952213|0.08828865148155614|\n",
            "|[chills]                             |[vomiting]         |0.5488721804511278|1.422651456226774 |0.08828865148155614|\n",
            "|[yellowing_of_eyes, loss_of_appetite]|[dark_urine]       |0.549618320610687 |4.783607874648453 |0.087079217899617  |\n",
            "|[loss_of_appetite, fatigue]          |[nausea]           |0.5503875968992248|2.3826115778508328|0.08586978431767789|\n",
            "|[loss_of_appetite, fatigue]          |[high_fever]       |0.5503875968992248|2.004752472993432 |0.08586978431767789|\n",
            "|[loss_of_appetite, fatigue]          |[vomiting]         |0.5503875968992248|1.4265793459859217|0.08586978431767789|\n",
            "|[vomiting, fatigue]                  |[abdominal_pain]   |0.5511811023622047|2.6496215589330405|0.08466035073573876|\n",
            "|[yellowing_of_eyes]                  |[dark_urine]       |0.5514705882352942|4.799729102167183 |0.09070751864543439|\n",
            "|[chills, fatigue]                    |[cough]            |0.5543478260869565|4.876098519888992 |0.06168111267889538|\n",
            "|[yellowing_of_eyes, fatigue]         |[nausea]           |0.5543478260869565|2.3997552925108128|0.06168111267889538|\n",
            "|[loss_of_appetite, vomiting]         |[fatigue]          |0.5546875         |1.4243295483954452|0.08586978431767789|\n",
            "|[chills]                             |[headache]         |0.556390977443609 |2.4340878651655595|0.08949808506349527|\n",
            "|[vomiting, fatigue]                  |[loss_of_appetite] |0.5590551181102362|2.4075281605424323|0.08586978431767789|\n",
            "|[yellowing_of_eyes, nausea]          |[fatigue]          |0.5604395604395604|1.4390997201556208|0.06168111267889538|\n",
            "|[cough]                              |[breathlessness]   |0.5638297872340425|6.215910165484633 |0.06409997984277363|\n",
            "|[diarrhoea]                          |[nausea]           |0.5638297872340425|2.4408024210018193|0.06409997984277363|\n",
            "|[malaise, high_fever]                |[cough]            |0.5652173913043478|4.971708294788775 |0.06289054626083451|\n",
            "|[loss_of_appetite, fatigue]          |[malaise]          |0.5658914728682171|3.9991276309105768|0.08828865148155614|\n",
            "|[headache]                           |[vomiting]         |0.5661375661375662|1.467402542115186 |0.1294093932674864 |\n",
            "|[dark_urine, yellowish_skin]         |[nausea]           |0.5666666666666667|2.4530831878999417|0.06168111267889538|\n",
            "+-------------------------------------+-------------------+------------------+------------------+-------------------+\n",
            "only showing top 40 rows\n",
            "\n"
          ]
        }
      ]
    },
    {
      "cell_type": "markdown",
      "source": [
        "Run FP growth with increased min support (minSupport = 0.08, minConfidence = 0.5)"
      ],
      "metadata": {
        "id": "L8fx2BNjrf0u"
      }
    },
    {
      "cell_type": "code",
      "source": [
        "model = run_fp_growth(df_aggregated, \"Symptoms\", 0.08, 0.5)\n",
        "model.associationRules.show(40, False)"
      ],
      "metadata": {
        "colab": {
          "base_uri": "https://localhost:8080/"
        },
        "id": "WjTT5VrYrb9_",
        "outputId": "60e3a7ab-d7fb-4529-bd79-f74b5628ea5b"
      },
      "execution_count": 66,
      "outputs": [
        {
          "output_type": "stream",
          "name": "stdout",
          "text": [
            "+-----------------------------------------------------+-------------------+------------------+------------------+-------------------+\n",
            "|antecedent                                           |consequent         |confidence        |lift              |support            |\n",
            "+-----------------------------------------------------+-------------------+------------------+------------------+-------------------+\n",
            "|[dark_urine, loss_of_appetite]                       |[yellowing_of_eyes]|0.9863013698630136|5.996373892022563 |0.087079217899617  |\n",
            "|[dark_urine, loss_of_appetite]                       |[yellowish_skin]   |0.9452054794520548|5.141627613554434 |0.08345091715379964|\n",
            "|[dark_urine, loss_of_appetite]                       |[abdominal_pain]   |0.958904109589041 |4.609615588828714 |0.08466035073573876|\n",
            "|[loss_of_appetite, vomiting]                         |[yellowing_of_eyes]|0.703125          |4.274758731617648 |0.10884902237452126|\n",
            "|[loss_of_appetite, vomiting]                         |[nausea]           |0.6875            |2.976167102966841 |0.10643015521064302|\n",
            "|[loss_of_appetite, vomiting]                         |[abdominal_pain]   |0.671875          |3.2298177083333335|0.10401128804676477|\n",
            "|[loss_of_appetite, vomiting]                         |[joint_pain]       |0.546875          |3.9664427997076026|0.08466035073573876|\n",
            "|[loss_of_appetite, vomiting]                         |[yellowish_skin]   |0.5390625         |2.932334498355263 |0.08345091715379964|\n",
            "|[loss_of_appetite, vomiting]                         |[fatigue]          |0.5546875         |1.4243295483954452|0.08586978431767789|\n",
            "|[dark_urine, yellowing_of_eyes, yellowish_skin]      |[loss_of_appetite] |0.9577464788732394|4.124462050078247 |0.08224148357186051|\n",
            "|[dark_urine, yellowing_of_eyes, yellowish_skin]      |[abdominal_pain]   |0.9577464788732394|4.604050660552462 |0.08224148357186051|\n",
            "|[malaise]                                            |[high_fever]       |0.7863247863247863|2.8641389610552603|0.11126788953839951|\n",
            "|[malaise]                                            |[chills]           |0.6239316239316239|3.878853115695221 |0.08828865148155614|\n",
            "|[malaise]                                            |[loss_of_appetite] |0.6581196581196581|2.834142034662868 |0.09312638580931264|\n",
            "|[malaise]                                            |[fatigue]          |0.9487179487179487|2.436123055688273 |0.1342471275952429 |\n",
            "|[dark_urine, yellowing_of_eyes]                      |[yellowish_skin]   |0.9466666666666667|5.149576023391813 |0.08586978431767789|\n",
            "|[dark_urine, yellowing_of_eyes]                      |[loss_of_appetite] |0.96              |4.134166666666666 |0.087079217899617  |\n",
            "|[dark_urine, yellowing_of_eyes]                      |[abdominal_pain]   |0.96              |4.614883720930233 |0.087079217899617  |\n",
            "|[chills, high_fever]                                 |[malaise]          |0.6272727272727273|4.432905982905983 |0.08345091715379964|\n",
            "|[chills, high_fever]                                 |[vomiting]         |0.6363636363636364|1.6494252873563218|0.08466035073573876|\n",
            "|[chills, high_fever]                                 |[fatigue]          |0.8               |2.0542443064182194|0.10643015521064302|\n",
            "|[chills, high_fever]                                 |[headache]         |0.6454545454545455|2.8237213403880075|0.08586978431767789|\n",
            "|[yellowing_of_eyes, abdominal_pain, loss_of_appetite]|[yellowish_skin]   |0.9444444444444444|5.137487816764132 |0.10280185446482563|\n",
            "|[yellowing_of_eyes, abdominal_pain, loss_of_appetite]|[nausea]           |0.7555555555555555|3.270777583866589 |0.08224148357186051|\n",
            "|[yellowing_of_eyes, abdominal_pain, loss_of_appetite]|[vomiting]         |0.7555555555555555|1.9583652618135376|0.08224148357186051|\n",
            "|[yellowing_of_eyes, abdominal_pain, loss_of_appetite]|[dark_urine]       |0.7666666666666667|6.672690058479533 |0.08345091715379964|\n",
            "|[high_fever, vomiting]                               |[fatigue]          |0.7981651376146789|2.049532736908086 |0.10522072162870388|\n",
            "|[high_fever, vomiting]                               |[nausea]           |0.6422018348623854|2.7800726900107273|0.08466035073573876|\n",
            "|[high_fever, vomiting]                               |[chills]           |0.6422018348623854|3.992435216481571 |0.08466035073573876|\n",
            "|[dark_urine, yellowing_of_eyes, abdominal_pain]      |[yellowish_skin]   |0.9444444444444444|5.137487816764132 |0.08224148357186051|\n",
            "|[dark_urine, yellowing_of_eyes, abdominal_pain]      |[loss_of_appetite] |0.9583333333333334|4.126989293981482 |0.08345091715379964|\n",
            "|[joint_pain]                                         |[nausea]           |0.6403508771929824|2.772059949174857 |0.08828865148155614|\n",
            "|[joint_pain]                                         |[vomiting]         |0.631578947368421 |1.6370235934664246|0.087079217899617  |\n",
            "|[joint_pain]                                         |[loss_of_appetite] |0.6491228070175439|2.7953977826510723|0.08949808506349527|\n",
            "|[weight_loss]                                        |[fatigue]          |0.9473684210526315|2.4326577312847335|0.087079217899617  |\n",
            "|[nausea, high_fever]                                 |[vomiting]         |0.9459459459459459|2.451848400124262 |0.08466035073573876|\n",
            "|[joint_pain, nausea, vomiting]                       |[loss_of_appetite] |0.9710144927536232|4.181599738325282 |0.08103204998992139|\n",
            "|[headache, high_fever]                               |[fatigue]          |0.7717391304347826|1.9816758934197498|0.08586978431767789|\n",
            "|[headache, high_fever]                               |[chills]           |0.7717391304347826|4.797741636700446 |0.08586978431767789|\n",
            "|[dark_urine, yellowish_skin, abdominal_pain]         |[yellowing_of_eyes]|0.7906976744186046|4.807170542635659 |0.08224148357186051|\n",
            "+-----------------------------------------------------+-------------------+------------------+------------------+-------------------+\n",
            "only showing top 40 rows\n",
            "\n"
          ]
        }
      ]
    },
    {
      "cell_type": "markdown",
      "source": [
        "Print the number of association rules"
      ],
      "metadata": {
        "id": "ieDbvo8Ur4A4"
      }
    },
    {
      "cell_type": "code",
      "source": [
        "print(\"Number of association rules:\", model.associationRules.count())"
      ],
      "metadata": {
        "colab": {
          "base_uri": "https://localhost:8080/"
        },
        "id": "zzUFF9Wgr3iM",
        "outputId": "9d300cbd-4878-4e1d-a8b1-01dc72d123d3"
      },
      "execution_count": 67,
      "outputs": [
        {
          "output_type": "stream",
          "name": "stdout",
          "text": [
            "Number of association rules: 263\n"
          ]
        }
      ]
    },
    {
      "cell_type": "markdown",
      "source": [
        "Show the association Rules ordered by support (low to high)"
      ],
      "metadata": {
        "id": "VAcKXrIQsEBN"
      }
    },
    {
      "cell_type": "code",
      "source": [
        "model.associationRules.orderBy(\"support\", ascending=True).show(40, False)"
      ],
      "metadata": {
        "colab": {
          "base_uri": "https://localhost:8080/"
        },
        "id": "ccQgrq4dsOAz",
        "outputId": "c3b23afd-4941-4c21-f811-b3b7ed025a68"
      },
      "execution_count": 68,
      "outputs": [
        {
          "output_type": "stream",
          "name": "stdout",
          "text": [
            "+-----------------------------------------------------+-------------------+------------------+------------------+-------------------+\n",
            "|antecedent                                           |consequent         |confidence        |lift              |support            |\n",
            "+-----------------------------------------------------+-------------------+------------------+------------------+-------------------+\n",
            "|[yellowing_of_eyes, yellowish_skin, loss_of_appetite]|[vomiting]         |0.638095238095238 |1.6539135194307608|0.08103204998992139|\n",
            "|[yellowing_of_eyes, yellowish_skin, vomiting]        |[abdominal_pain]   |0.9571428571428572|4.601148947951273 |0.08103204998992139|\n",
            "|[abdominal_pain, nausea, vomiting]                   |[yellowing_of_eyes]|0.7790697674418605|4.736476858185135 |0.08103204998992139|\n",
            "|[joint_pain, nausea, vomiting]                       |[loss_of_appetite] |0.9710144927536232|4.181599738325282 |0.08103204998992139|\n",
            "|[yellowing_of_eyes, loss_of_appetite, vomiting]      |[nausea]           |0.7444444444444445|3.22267791351561  |0.08103204998992139|\n",
            "|[yellowing_of_eyes, yellowish_skin, vomiting]        |[loss_of_appetite] |0.9571428571428572|4.12186259920635  |0.08103204998992139|\n",
            "|[yellowing_of_eyes, loss_of_appetite, vomiting]      |[yellowish_skin]   |0.7444444444444445|4.049549220272905 |0.08103204998992139|\n",
            "|[yellowish_skin, abdominal_pain, nausea]             |[yellowing_of_eyes]|0.9710144927536232|5.9034349246945155|0.08103204998992139|\n",
            "|[yellowing_of_eyes, nausea, vomiting]                |[loss_of_appetite] |0.9571428571428572|4.12186259920635  |0.08103204998992139|\n",
            "|[yellowing_of_eyes, abdominal_pain, nausea]          |[yellowish_skin]   |0.9436619718309859|5.133231405979737 |0.08103204998992139|\n",
            "|[yellowing_of_eyes, nausea, vomiting]                |[abdominal_pain]   |0.9571428571428572|4.601148947951273 |0.08103204998992139|\n",
            "|[yellowing_of_eyes, abdominal_pain, nausea]          |[vomiting]         |0.9436619718309859|2.44592844422859  |0.08103204998992139|\n",
            "|[joint_pain, loss_of_appetite, vomiting]             |[nausea]           |0.9571428571428572|4.143443031662927 |0.08103204998992139|\n",
            "|[yellowish_skin, abdominal_pain, vomiting]           |[yellowing_of_eyes]|0.6504854368932039|3.954728250523511 |0.08103204998992139|\n",
            "|[yellowish_skin, loss_of_appetite, vomiting]         |[yellowing_of_eyes]|0.9710144927536232|5.9034349246945155|0.08103204998992139|\n",
            "|[yellowing_of_eyes, abdominal_pain, vomiting]        |[yellowish_skin]   |0.9436619718309859|5.133231405979737 |0.08103204998992139|\n",
            "|[yellowing_of_eyes, abdominal_pain, vomiting]        |[nausea]           |0.9436619718309859|4.085084679104294 |0.08103204998992139|\n",
            "|[yellowing_of_eyes, yellowish_skin, nausea]          |[abdominal_pain]   |0.7790697674418605|3.745121236704525 |0.08103204998992139|\n",
            "|[yellowing_of_eyes, yellowish_skin, abdominal_pain]  |[nausea]           |0.7528089887640449|3.258887777712414 |0.08103204998992139|\n",
            "|[yellowing_of_eyes, yellowish_skin, abdominal_pain]  |[vomiting]         |0.7528089887640449|1.951246286968875 |0.08103204998992139|\n",
            "|[joint_pain, nausea, loss_of_appetite]               |[vomiting]         |0.9436619718309859|2.44592844422859  |0.08103204998992139|\n",
            "|[nausea, loss_of_appetite, vomiting]                 |[yellowing_of_eyes]|0.7613636363636364|4.628829656862745 |0.08103204998992139|\n",
            "|[nausea, loss_of_appetite, vomiting]                 |[joint_pain]       |0.7613636363636364|5.522112573099416 |0.08103204998992139|\n",
            "|[yellowing_of_eyes, nausea, loss_of_appetite]        |[vomiting]         |0.7701149425287356|1.9961025234509182|0.08103204998992139|\n",
            "|[dark_urine, yellowing_of_eyes, yellowish_skin]      |[loss_of_appetite] |0.9577464788732394|4.124462050078247 |0.08224148357186051|\n",
            "|[yellowing_of_eyes, yellowish_skin, loss_of_appetite]|[dark_urine]       |0.6476190476190476|5.63655806182122  |0.08224148357186051|\n",
            "|[dark_urine, yellowing_of_eyes, yellowish_skin]      |[abdominal_pain]   |0.9577464788732394|4.604050660552462 |0.08224148357186051|\n",
            "|[dark_urine, yellowish_skin, loss_of_appetite]       |[yellowing_of_eyes]|0.9855072463768116|5.991545893719807 |0.08224148357186051|\n",
            "|[yellowing_of_eyes, abdominal_pain, loss_of_appetite]|[nausea]           |0.7555555555555555|3.270777583866589 |0.08224148357186051|\n",
            "|[dark_urine, vomiting]                               |[yellowish_skin]   |0.9444444444444444|5.137487816764132 |0.08224148357186051|\n",
            "|[yellowing_of_eyes, abdominal_pain, loss_of_appetite]|[vomiting]         |0.7555555555555555|1.9583652618135376|0.08224148357186051|\n",
            "|[yellowing_of_eyes, loss_of_appetite, vomiting]      |[abdominal_pain]   |0.7555555555555555|3.6320844099913865|0.08224148357186051|\n",
            "|[dark_urine, yellowing_of_eyes, abdominal_pain]      |[yellowish_skin]   |0.9444444444444444|5.137487816764132 |0.08224148357186051|\n",
            "|[yellowing_of_eyes, abdominal_pain, vomiting]        |[loss_of_appetite] |0.9577464788732394|4.124462050078247 |0.08224148357186051|\n",
            "|[dark_urine, yellowish_skin, abdominal_pain]         |[yellowing_of_eyes]|0.7906976744186046|4.807170542635659 |0.08224148357186051|\n",
            "|[yellowing_of_eyes, yellowish_skin, abdominal_pain]  |[dark_urine]       |0.7640449438202247|6.649871870687956 |0.08224148357186051|\n",
            "|[dark_urine, fatigue]                                |[yellowish_skin]   |0.9444444444444444|5.137487816764132 |0.08224148357186051|\n",
            "|[dark_urine, yellowing_of_eyes, loss_of_appetite]    |[yellowish_skin]   |0.9444444444444444|5.137487816764132 |0.08224148357186051|\n",
            "|[yellowish_skin, fatigue]                            |[dark_urine]       |0.7555555555555555|6.575984405458089 |0.08224148357186051|\n",
            "|[yellowing_of_eyes, nausea, loss_of_appetite]        |[abdominal_pain]   |0.7816091954022989|3.7573286999910898|0.08224148357186051|\n",
            "+-----------------------------------------------------+-------------------+------------------+------------------+-------------------+\n",
            "only showing top 40 rows\n",
            "\n"
          ]
        }
      ]
    },
    {
      "cell_type": "markdown",
      "source": [
        "increase the minsupport and minconfidence (MinSupport = 0.1, MinConfidence = 0.8)"
      ],
      "metadata": {
        "id": "KAZUXCT2tgpD"
      }
    },
    {
      "cell_type": "code",
      "source": [
        "model = run_fp_growth(df_aggregated, \"Symptoms\", 0.1, 0.8)"
      ],
      "metadata": {
        "id": "GsvuSJ-ji_WB"
      },
      "execution_count": 69,
      "outputs": []
    },
    {
      "cell_type": "markdown",
      "source": [
        "Print the number of associationRules now confidence and support increased"
      ],
      "metadata": {
        "id": "v4IOv9jqlFGY"
      }
    },
    {
      "cell_type": "code",
      "source": [
        "print(\"Number of association rules:\", model.associationRules.count())"
      ],
      "metadata": {
        "colab": {
          "base_uri": "https://localhost:8080/"
        },
        "id": "ryX5zmh5lECw",
        "outputId": "10fe2823-4a69-4829-fc69-cf610a0d8c74"
      },
      "execution_count": 70,
      "outputs": [
        {
          "output_type": "stream",
          "name": "stdout",
          "text": [
            "Number of association rules: 36\n"
          ]
        }
      ]
    },
    {
      "cell_type": "markdown",
      "source": [
        "Show the association Rules ordered by support (high to low)"
      ],
      "metadata": {
        "id": "Xho9X6e2tnfl"
      }
    },
    {
      "cell_type": "code",
      "source": [
        "model.associationRules.orderBy(\"support\", ascending=False).show(200, False)"
      ],
      "metadata": {
        "id": "gKYT-CPqpbt4",
        "colab": {
          "base_uri": "https://localhost:8080/"
        },
        "outputId": "5ad19114-faaf-43a4-d074-bcc73854d936"
      },
      "execution_count": 71,
      "outputs": [
        {
          "output_type": "stream",
          "name": "stdout",
          "text": [
            "+-----------------------------------------------------+-------------------+------------------+------------------+-------------------+\n",
            "|antecedent                                           |consequent         |confidence        |lift              |support            |\n",
            "+-----------------------------------------------------+-------------------+------------------+------------------+-------------------+\n",
            "|[nausea]                                             |[vomiting]         |0.8534031413612565|2.211981705482337 |0.19713767385607742|\n",
            "|[abdominal_pain]                                     |[vomiting]         |0.8430232558139535|2.185077519379845 |0.17536786938117316|\n",
            "|[yellowing_of_eyes]                                  |[loss_of_appetite] |0.9632352941176471|4.148099213643791 |0.1584357992340254 |\n",
            "|[yellowish_skin]                                     |[abdominal_pain]   |0.8355263157894737|4.016517492860057 |0.1535980649062689 |\n",
            "|[malaise]                                            |[fatigue]          |0.9487179487179487|2.436123055688273 |0.1342471275952429 |\n",
            "|[chills]                                             |[high_fever]       |0.8270676691729323|3.0125423691387057|0.13303769401330376|\n",
            "|[yellowing_of_eyes]                                  |[yellowish_skin]   |0.8088235294117647|4.399751676986584 |0.13303769401330376|\n",
            "|[yellowing_of_eyes, yellowish_skin]                  |[loss_of_appetite] |0.9545454545454546|4.110677083333334 |0.12699052610360814|\n",
            "|[yellowish_skin, loss_of_appetite]                   |[yellowing_of_eyes]|0.963302752293578 |5.856550188882893 |0.12699052610360814|\n",
            "|[yellowing_of_eyes, loss_of_appetite]                |[yellowish_skin]   |0.8015267175572519|4.3600592607472874|0.12699052610360814|\n",
            "|[yellowish_skin, abdominal_pain]                     |[vomiting]         |0.8110236220472441|2.1021359399040636|0.12457165893972989|\n",
            "|[yellowish_skin, vomiting]                           |[abdominal_pain]   |0.9537037037037037|4.584616350846971 |0.12457165893972989|\n",
            "|[dark_urine]                                         |[abdominal_pain]   |0.9578947368421052|4.604763361893105 |0.1100584559564604 |\n",
            "|[yellowing_of_eyes, abdominal_pain]                  |[loss_of_appetite] |0.9574468085106383|4.123171542553192 |0.10884902237452126|\n",
            "|[yellowing_of_eyes, vomiting]                        |[loss_of_appetite] |0.967741935483871 |4.167506720430108 |0.10884902237452126|\n",
            "|[abdominal_pain, loss_of_appetite]                   |[yellowing_of_eyes]|0.8256880733944955|5.019900161899622 |0.10884902237452126|\n",
            "|[dark_urine]                                         |[yellowish_skin]   |0.9473684210526315|5.1533933518005535|0.10884902237452126|\n",
            "|[yellowing_of_eyes, abdominal_pain]                  |[yellowish_skin]   |0.9468085106382979|5.150347611048899 |0.10763958879258215|\n",
            "|[yellowing_of_eyes, fatigue]                         |[loss_of_appetite] |0.967391304347826 |4.165996754227053 |0.10763958879258215|\n",
            "|[yellowing_of_eyes, yellowish_skin]                  |[abdominal_pain]   |0.8090909090909091|3.8894379844961238|0.10763958879258215|\n",
            "|[chills, high_fever]                                 |[fatigue]          |0.8               |2.0542443064182194|0.10643015521064302|\n",
            "|[chills, fatigue]                                    |[high_fever]       |0.9565217391304348|3.484070739960416 |0.10643015521064302|\n",
            "|[headache, nausea]                                   |[vomiting]         |0.9456521739130435|2.4510869565217392|0.10522072162870388|\n",
            "|[malaise, high_fever]                                |[fatigue]          |0.9456521739130435|2.4282507426411017|0.10522072162870388|\n",
            "|[headache, vomiting]                                 |[nausea]           |0.8130841121495327|3.519816998581005 |0.10522072162870388|\n",
            "|[yellowing_of_eyes, nausea]                          |[loss_of_appetite] |0.9560439560439561|4.1171302655677655|0.10522072162870388|\n",
            "|[dark_urine, yellowish_skin]                         |[abdominal_pain]   |0.9555555555555556|4.593518518518518 |0.10401128804676477|\n",
            "|[dark_urine, abdominal_pain]                         |[yellowish_skin]   |0.945054945054945 |5.140808752650857 |0.10401128804676477|\n",
            "|[yellowing_of_eyes, nausea]                          |[yellowish_skin]   |0.945054945054945 |5.140808752650857 |0.10401128804676477|\n",
            "|[yellowish_skin, nausea]                             |[yellowing_of_eyes]|0.9555555555555556|5.809449891067539 |0.10401128804676477|\n",
            "|[yellowish_skin, nausea]                             |[loss_of_appetite] |0.9555555555555556|4.11502700617284  |0.10401128804676477|\n",
            "|[abdominal_pain, nausea]                             |[vomiting]         |0.945054945054945 |2.449538966780346 |0.10401128804676477|\n",
            "|[yellowish_skin, abdominal_pain, loss_of_appetite]   |[yellowing_of_eyes]|0.9770114942528736|5.939894636015326 |0.10280185446482563|\n",
            "|[yellowing_of_eyes, yellowish_skin, loss_of_appetite]|[abdominal_pain]   |0.8095238095238095|3.8915190107050575|0.10280185446482563|\n",
            "|[yellowing_of_eyes, abdominal_pain, loss_of_appetite]|[yellowish_skin]   |0.9444444444444444|5.137487816764132 |0.10280185446482563|\n",
            "|[yellowing_of_eyes, yellowish_skin, abdominal_pain]  |[loss_of_appetite] |0.9550561797752809|4.112876482521848 |0.10280185446482563|\n",
            "+-----------------------------------------------------+-------------------+------------------+------------------+-------------------+\n",
            "\n"
          ]
        }
      ]
    },
    {
      "cell_type": "markdown",
      "source": [
        "Show the association Rules ordered by confidence (high to low)"
      ],
      "metadata": {
        "id": "lB_Uwx6EzU6z"
      }
    },
    {
      "cell_type": "code",
      "source": [
        "model.associationRules.orderBy(\"confidence\", ascending=False).show(200, False);"
      ],
      "metadata": {
        "colab": {
          "base_uri": "https://localhost:8080/"
        },
        "id": "2VKDg4Y0t_ly",
        "outputId": "07cfc7cc-f837-425b-c923-f4c2b1d111ce"
      },
      "execution_count": 72,
      "outputs": [
        {
          "output_type": "stream",
          "name": "stdout",
          "text": [
            "+-----------------------------------------------------+-------------------+------------------+------------------+-------------------+\n",
            "|antecedent                                           |consequent         |confidence        |lift              |support            |\n",
            "+-----------------------------------------------------+-------------------+------------------+------------------+-------------------+\n",
            "|[yellowish_skin, abdominal_pain, loss_of_appetite]   |[yellowing_of_eyes]|0.9770114942528736|5.939894636015326 |0.10280185446482563|\n",
            "|[yellowing_of_eyes, vomiting]                        |[loss_of_appetite] |0.967741935483871 |4.167506720430108 |0.10884902237452126|\n",
            "|[yellowing_of_eyes, fatigue]                         |[loss_of_appetite] |0.967391304347826 |4.165996754227053 |0.10763958879258215|\n",
            "|[yellowish_skin, loss_of_appetite]                   |[yellowing_of_eyes]|0.963302752293578 |5.856550188882893 |0.12699052610360814|\n",
            "|[yellowing_of_eyes]                                  |[loss_of_appetite] |0.9632352941176471|4.148099213643791 |0.1584357992340254 |\n",
            "|[dark_urine]                                         |[abdominal_pain]   |0.9578947368421052|4.604763361893105 |0.1100584559564604 |\n",
            "|[yellowing_of_eyes, abdominal_pain]                  |[loss_of_appetite] |0.9574468085106383|4.123171542553192 |0.10884902237452126|\n",
            "|[chills, fatigue]                                    |[high_fever]       |0.9565217391304348|3.484070739960416 |0.10643015521064302|\n",
            "|[yellowing_of_eyes, nausea]                          |[loss_of_appetite] |0.9560439560439561|4.1171302655677655|0.10522072162870388|\n",
            "|[dark_urine, yellowish_skin]                         |[abdominal_pain]   |0.9555555555555556|4.593518518518518 |0.10401128804676477|\n",
            "|[yellowish_skin, nausea]                             |[yellowing_of_eyes]|0.9555555555555556|5.809449891067539 |0.10401128804676477|\n",
            "|[yellowish_skin, nausea]                             |[loss_of_appetite] |0.9555555555555556|4.11502700617284  |0.10401128804676477|\n",
            "|[yellowing_of_eyes, yellowish_skin, abdominal_pain]  |[loss_of_appetite] |0.9550561797752809|4.112876482521848 |0.10280185446482563|\n",
            "|[yellowing_of_eyes, yellowish_skin]                  |[loss_of_appetite] |0.9545454545454546|4.110677083333334 |0.12699052610360814|\n",
            "|[yellowish_skin, vomiting]                           |[abdominal_pain]   |0.9537037037037037|4.584616350846971 |0.12457165893972989|\n",
            "|[malaise]                                            |[fatigue]          |0.9487179487179487|2.436123055688273 |0.1342471275952429 |\n",
            "|[dark_urine]                                         |[yellowish_skin]   |0.9473684210526315|5.1533933518005535|0.10884902237452126|\n",
            "|[yellowing_of_eyes, abdominal_pain]                  |[yellowish_skin]   |0.9468085106382979|5.150347611048899 |0.10763958879258215|\n",
            "|[headache, nausea]                                   |[vomiting]         |0.9456521739130435|2.4510869565217392|0.10522072162870388|\n",
            "|[malaise, high_fever]                                |[fatigue]          |0.9456521739130435|2.4282507426411017|0.10522072162870388|\n",
            "|[dark_urine, abdominal_pain]                         |[yellowish_skin]   |0.945054945054945 |5.140808752650857 |0.10401128804676477|\n",
            "|[yellowing_of_eyes, nausea]                          |[yellowish_skin]   |0.945054945054945 |5.140808752650857 |0.10401128804676477|\n",
            "|[abdominal_pain, nausea]                             |[vomiting]         |0.945054945054945 |2.449538966780346 |0.10401128804676477|\n",
            "|[yellowing_of_eyes, abdominal_pain, loss_of_appetite]|[yellowish_skin]   |0.9444444444444444|5.137487816764132 |0.10280185446482563|\n",
            "|[nausea]                                             |[vomiting]         |0.8534031413612565|2.211981705482337 |0.19713767385607742|\n",
            "|[abdominal_pain]                                     |[vomiting]         |0.8430232558139535|2.185077519379845 |0.17536786938117316|\n",
            "|[yellowish_skin]                                     |[abdominal_pain]   |0.8355263157894737|4.016517492860057 |0.1535980649062689 |\n",
            "|[chills]                                             |[high_fever]       |0.8270676691729323|3.0125423691387057|0.13303769401330376|\n",
            "|[abdominal_pain, loss_of_appetite]                   |[yellowing_of_eyes]|0.8256880733944955|5.019900161899622 |0.10884902237452126|\n",
            "|[headache, vomiting]                                 |[nausea]           |0.8130841121495327|3.519816998581005 |0.10522072162870388|\n",
            "|[yellowish_skin, abdominal_pain]                     |[vomiting]         |0.8110236220472441|2.1021359399040636|0.12457165893972989|\n",
            "|[yellowing_of_eyes, yellowish_skin, loss_of_appetite]|[abdominal_pain]   |0.8095238095238095|3.8915190107050575|0.10280185446482563|\n",
            "|[yellowing_of_eyes, yellowish_skin]                  |[abdominal_pain]   |0.8090909090909091|3.8894379844961238|0.10763958879258215|\n",
            "|[yellowing_of_eyes]                                  |[yellowish_skin]   |0.8088235294117647|4.399751676986584 |0.13303769401330376|\n",
            "|[yellowing_of_eyes, loss_of_appetite]                |[yellowish_skin]   |0.8015267175572519|4.3600592607472874|0.12699052610360814|\n",
            "|[chills, high_fever]                                 |[fatigue]          |0.8               |2.0542443064182194|0.10643015521064302|\n",
            "+-----------------------------------------------------+-------------------+------------------+------------------+-------------------+\n",
            "\n"
          ]
        }
      ]
    },
    {
      "cell_type": "markdown",
      "source": [
        "Make predictions based on new data"
      ],
      "metadata": {
        "id": "pUgyxOf9Iwt9"
      }
    },
    {
      "cell_type": "code",
      "source": [
        "new_df = spark.createDataFrame([(\"dummyData\",)]) \\\n",
        "    .withColumn(\"Symptoms\", array(lit(\"abdominal_pain\"), lit(\"dark_urine\"), lit(\"yellowing_of_eyes\")))\n",
        "\n",
        "\n",
        "predictions = model.transform(new_df)\n",
        "\n",
        "\n",
        "predictions.select(\"symptoms\", \"prediction\").show(truncate=False)"
      ],
      "metadata": {
        "colab": {
          "base_uri": "https://localhost:8080/"
        },
        "id": "jaAswrrbJvGY",
        "outputId": "eaa34031-126d-44dd-fd1a-0fa4eedeeb48"
      },
      "execution_count": 75,
      "outputs": [
        {
          "output_type": "stream",
          "name": "stdout",
          "text": [
            "+-----------------------------------------------+--------------------------------------------+\n",
            "|symptoms                                       |prediction                                  |\n",
            "+-----------------------------------------------+--------------------------------------------+\n",
            "|[abdominal_pain, dark_urine, yellowing_of_eyes]|[yellowish_skin, loss_of_appetite, vomiting]|\n",
            "+-----------------------------------------------+--------------------------------------------+\n",
            "\n"
          ]
        }
      ]
    }
  ]
}